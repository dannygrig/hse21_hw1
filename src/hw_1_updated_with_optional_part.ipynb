{
 "cells": [
  {
   "cell_type": "code",
   "execution_count": 24,
   "metadata": {},
   "outputs": [],
   "source": [
    "def get_analysis(fulldata):\n",
    "    numbr = 0\n",
    "    length = 0\n",
    "    units = []\n",
    "    names = []\n",
    "    name_l_scaffold = \"\"\n",
    "    data = open(fulldata, \"r\")\n",
    "    for i in data.readlines():\n",
    "        if '>' in i:\n",
    "            numbr += 1\n",
    "            names.append(i)\n",
    "            first = i.find(\"len\") + 3\n",
    "            last = i.find(\"_\", first)\n",
    "            units.append(int(i[first:last]))\n",
    "            length += int(i[first:last])\n",
    "    longest = int(sorted(units, reverse = True)[0])\n",
    "    bigscaf = 0\n",
    "    N50 = 0\n",
    "    for h in sorted(units, reverse = True):\n",
    "        bigscaf += h\n",
    "        if bigscaf >= length/2:\n",
    "            N50 = h\n",
    "            break\n",
    "    if \"scaffold\" in names[0]:\n",
    "        for j in range(0, len(names)):\n",
    "            if str(longest) in names[j]:\n",
    "                name_l_scaffold = names[j][1:]\n",
    "        print(\"Общее количество скаффолдов = \", numbr, \"Общая длина = \", length,\"Длина самого длинного скаффолда = \", longest, \"N50 = \", N50)\n",
    "        print(name_l_scaffold)\n",
    "    else:\n",
    "        print(\"Общее количество контигов = \", numbr, \"Общая длина = \", length,\"Длина самого длинного контига = \", longest, \"N50 = \", N50)\n",
    "    data.close()\n",
    "        \n",
    "        \n",
    "    "
   ]
  },
  {
   "cell_type": "code",
   "execution_count": 25,
   "metadata": {},
   "outputs": [
    {
     "name": "stdout",
     "output_type": "stream",
     "text": [
      "Общее количество контигов =  623 Общая длина =  3926599 Длина самого длинного контига =  179307 N50 =  48968\n"
     ]
    }
   ],
   "source": [
    "get_analysis(\"Poil_contig.fa\")"
   ]
  },
  {
   "cell_type": "code",
   "execution_count": 26,
   "metadata": {},
   "outputs": [
    {
     "name": "stdout",
     "output_type": "stream",
     "text": [
      "Общее количество скаффолдов =  71 Общая длина =  3873650 Длина самого длинного скаффолда =  3834450 N50 =  3834450\n",
      "scaffold1_len3834450_cov231\n",
      "\n"
     ]
    }
   ],
   "source": [
    "get_analysis(\"Poil_scaffold.fa\")"
   ]
  },
  {
   "cell_type": "code",
   "execution_count": 53,
   "metadata": {},
   "outputs": [],
   "source": [
    "def gaps_scaffold(scfdata):\n",
    "    data = open(scfdata, \"r\")\n",
    "    gap_num = 0\n",
    "    gap_full = 0\n",
    "    scaffold = str(data.readlines())\n",
    "    for j in scaffold:\n",
    "        gap_full += j.count(\"N\")\n",
    "    for i in range(1, len(scaffold)):\n",
    "        if scaffold[i] == \"N\" and scaffold[i-1] != \"N\":\n",
    "            gap_num += 1\n",
    "    print(\"Количество гэпов = \", gap_num, \"Общая длина гэпов = \", gap_full)\n",
    "    data.close()"
   ]
  },
  {
   "cell_type": "code",
   "execution_count": 54,
   "metadata": {},
   "outputs": [
    {
     "name": "stdout",
     "output_type": "stream",
     "text": [
      "Количество гэпов =  61 Общая длина гэпов =  6429\n"
     ]
    }
   ],
   "source": [
    "gaps_scaffold(\"longest_scaffold.fa\")"
   ]
  },
  {
   "cell_type": "code",
   "execution_count": 55,
   "metadata": {},
   "outputs": [
    {
     "name": "stdout",
     "output_type": "stream",
     "text": [
      "Количество гэпов =  11 Общая длина гэпов =  1653\n"
     ]
    }
   ],
   "source": [
    "gaps_scaffold(\"gapclosed_longest_scaffold.fa\")"
   ]
  },
  {
   "cell_type": "code",
   "execution_count": 56,
   "metadata": {},
   "outputs": [
    {
     "name": "stdout",
     "output_type": "stream",
     "text": [
      "Общее количество контигов =  1254 Общая длина =  3912614 Длина самого длинного контига =  187087 N50 =  67003\n"
     ]
    }
   ],
   "source": [
    "get_analysis(\"Poil_contig2.fa\")"
   ]
  },
  {
   "cell_type": "code",
   "execution_count": 57,
   "metadata": {},
   "outputs": [
    {
     "name": "stdout",
     "output_type": "stream",
     "text": [
      "Общее количество скаффолдов =  150 Общая длина =  3853232 Длина самого длинного скаффолда =  2072741 N50 =  2072741\n",
      "scaffold2_len2072741_cov47\n",
      "\n"
     ]
    }
   ],
   "source": [
    "get_analysis(\"Poil_scaffold2.fa\")"
   ]
  },
  {
   "cell_type": "code",
   "execution_count": 58,
   "metadata": {},
   "outputs": [
    {
     "name": "stdout",
     "output_type": "stream",
     "text": [
      "Количество гэпов =  78 Общая длина гэпов =  9219\n"
     ]
    }
   ],
   "source": [
    "gaps_scaffold(\"longest_scaffold2.fa\")"
   ]
  },
  {
   "cell_type": "code",
   "execution_count": 59,
   "metadata": {},
   "outputs": [
    {
     "name": "stdout",
     "output_type": "stream",
     "text": [
      "Количество гэпов =  25 Общая длина гэпов =  6053\n"
     ]
    }
   ],
   "source": [
    "gaps_scaffold(\"gapclosed_longest_scaffold2.fa\")"
   ]
  }
 ],
 "metadata": {
  "kernelspec": {
   "display_name": "Python 3",
   "language": "python",
   "name": "python3"
  },
  "language_info": {
   "codemirror_mode": {
    "name": "ipython",
    "version": 3
   },
   "file_extension": ".py",
   "mimetype": "text/x-python",
   "name": "python",
   "nbconvert_exporter": "python",
   "pygments_lexer": "ipython3",
   "version": "3.8.5"
  }
 },
 "nbformat": 4,
 "nbformat_minor": 4
}
